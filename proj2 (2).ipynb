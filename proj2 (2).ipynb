{
 "cells": [
  {
   "cell_type": "markdown",
   "metadata": {},
   "source": [
    "# COMP90051 Project 2"
   ]
  },
  {
   "cell_type": "code",
   "execution_count": 2,
   "metadata": {},
   "outputs": [],
   "source": [
    "# Do not edit. These are the only imports permitted.\n",
    "%matplotlib inline\n",
    "import numpy as np\n",
    "import matplotlib as plt\n",
    "from abc import ABC, abstractmethod"
   ]
  },
  {
   "cell_type": "markdown",
   "metadata": {},
   "source": [
    "## 1. Implement ε-Greedy and UCB"
   ]
  },
  {
   "cell_type": "code",
   "execution_count": 5,
   "metadata": {},
   "outputs": [],
   "source": [
    "r = np.random.normal(0, 1, 10)"
   ]
  },
  {
   "cell_type": "code",
   "execution_count": 7,
   "metadata": {},
   "outputs": [
    {
     "data": {
      "text/plain": [
       "array([-1.40908429, -0.30577822, -0.51913837, -1.77118601,  0.73223957,\n",
       "       -0.68932289,  0.96005131,  0.94696271,  0.20637319,  0.67901705])"
      ]
     },
     "execution_count": 7,
     "metadata": {},
     "output_type": "execute_result"
    }
   ],
   "source": [
    "r"
   ]
  },
  {
   "cell_type": "code",
   "execution_count": 6,
   "metadata": {},
   "outputs": [
    {
     "data": {
      "text/plain": [
       "6"
      ]
     },
     "execution_count": 6,
     "metadata": {},
     "output_type": "execute_result"
    }
   ],
   "source": [
    "np.argmax(r)"
   ]
  },
  {
   "cell_type": "code",
   "execution_count": 15,
   "metadata": {},
   "outputs": [
    {
     "data": {
      "text/plain": [
       "array([0.48706817, 0.2870919 , 0.85733662, 0.75174483, 0.78124952,\n",
       "       0.11480086, 0.11466514, 0.26655409, 0.93027602, 0.0821777 ])"
      ]
     },
     "execution_count": 15,
     "metadata": {},
     "output_type": "execute_result"
    }
   ],
   "source": [
    "np.random.rand(10)"
   ]
  },
  {
   "cell_type": "code",
   "execution_count": 219,
   "metadata": {},
   "outputs": [
    {
     "data": {
      "text/plain": [
       "array([3, 0])"
      ]
     },
     "execution_count": 219,
     "metadata": {},
     "output_type": "execute_result"
    }
   ],
   "source": [
    "np.random.binomial(3,  [0.75174483,0.11])"
   ]
  },
  {
   "cell_type": "code",
   "execution_count": null,
   "metadata": {},
   "outputs": [],
   "source": []
  },
  {
   "cell_type": "code",
   "execution_count": null,
   "metadata": {},
   "outputs": [],
   "source": []
  },
  {
   "cell_type": "code",
   "execution_count": 13,
   "metadata": {},
   "outputs": [
    {
     "data": {
      "text/plain": [
       "array([0.02481084, 0.66531643, 0.03207746, 0.07299086, 0.11840091,\n",
       "       0.89620611, 0.10164354, 0.24834361, 0.82187712, 0.34673209])"
      ]
     },
     "execution_count": 13,
     "metadata": {},
     "output_type": "execute_result"
    }
   ],
   "source": [
    "b"
   ]
  },
  {
   "cell_type": "code",
   "execution_count": 256,
   "metadata": {},
   "outputs": [],
   "source": [
    "class MAB(ABC):\n",
    "    \"\"\"\n",
    "    Abstract class that represents a multi-armed bandit (MAB)\n",
    "    \"\"\"\n",
    "    def __init__(self,narms,epsilon,Q0,reward_distribution=\"Gaussian\"):\n",
    "        self.narms = narms\n",
    "        self.epsilon = epsilon\n",
    "        self.arm_values = np.random.normal(0,1,narms) if reward_distribution is \"Gaussian\" else np.random.rand(narms)\n",
    "        self.best_action = np.argmax(self.arm_values)\n",
    "        self.pulls = np.zeros(narms)\n",
    "        self.est_values = np.empty(narms)\n",
    "        self.est_values.fill(Q0)\n",
    "        self.reward_distribution = reward_distribution\n",
    "    def get_reward(self, action):\n",
    "        if self.reward_distribution is \"Gaussian\":\n",
    "            return self.get_Gaussian(action)\n",
    "        return self.get_Bernoulli(action)\n",
    "    \n",
    "    def get_Gaussian(self, action):\n",
    "        return np.random.normal(self.arm_values[action],1)\n",
    "    \n",
    "    def get_Bernoulli(self, action):\n",
    "        return np.random.binomial(1,self.arm_values[action])\n",
    "    \n",
    "    @abstractmethod\n",
    "    def play(self, tround, context):\n",
    "        \"\"\"\n",
    "        Play a round\n",
    "        \n",
    "        Arguments\n",
    "        =========\n",
    "        tround : int\n",
    "            positive integer identifying the round\n",
    "        \n",
    "        context : 1D float array, shape (self.ndims * self.narms), optional\n",
    "            context given to the arms\n",
    "        \n",
    "        Returns\n",
    "        =======\n",
    "        arm : int\n",
    "            the positive integer arm id for this round\n",
    "        \"\"\"\n",
    "    \n",
    "    @abstractmethod\n",
    "    def update(self, arm, reward, context):\n",
    "        \"\"\"\n",
    "        Updates the internal state of the MAB after a play\n",
    "        \n",
    "        Arguments\n",
    "        =========\n",
    "        arm : int\n",
    "            a positive integer arm id in {1, ..., self.narms}\n",
    "        \n",
    "        reward : float\n",
    "            reward received from arm\n",
    "        \n",
    "        context : 1D float array, shape (self.ndims * self.narms), optional\n",
    "            context given to arms\n",
    "        \"\"\""
   ]
  },
  {
   "cell_type": "code",
   "execution_count": 339,
   "metadata": {},
   "outputs": [],
   "source": [
    "class EpsGreedy(MAB):\n",
    "    \"\"\"\n",
    "    Epsilon-Greedy multi-armed bandit\n",
    "\n",
    "    Arguments\n",
    "    =========\n",
    "    narms : int\n",
    "        number of arms\n",
    "\n",
    "    epsilon : float\n",
    "        explore probability\n",
    "\n",
    "    Q0 : float, optional\n",
    "        initial value for the arms\n",
    "    \"\"\"\n",
    "    \n",
    "    def __init__(self, narms, epsilon, Q0=np.inf,reward_distribution=\"Gaussian\"):\n",
    "        super().__init__(narms,epsilon,Q0,reward_distribution)\n",
    "        \n",
    "#     def get_reward(self, action):\n",
    "#         return\n",
    "# #         return 1 if np.random.normal(0,1) > 0.2 else 0\n",
    "# #         return np.random.normal(self.arm_values[action],1)\n",
    "#         return self.arm_values[action] + np.random.normal(0,1)\n",
    "    \n",
    "    def play(self, tround, context=None):\n",
    "        num_random = np.random.random()\n",
    "        if self.epsilon > num_random:\n",
    "            return np.random.randint(self.narms)\n",
    "        else:\n",
    "            return np.argmax(self.est_values)\n",
    "            choice = np.random.choice(np.where(self.est_values == self.est_values.max())[0])\n",
    "            return choice\n",
    "        \n",
    "        \n",
    "    def update(self, arm, reward, context=None):\n",
    "        self.pulls[arm] += 1\n",
    "        self.est_values[arm] += (reward - self.est_values[arm])/self.pulls[arm]\n",
    "    "
   ]
  },
  {
   "cell_type": "code",
   "execution_count": 362,
   "metadata": {},
   "outputs": [],
   "source": [
    "pulls = 10000\n",
    "narms = 10\n",
    "eps = 1000"
   ]
  },
  {
   "cell_type": "code",
   "execution_count": 344,
   "metadata": {},
   "outputs": [],
   "source": [
    "def experiment(eps,epsilon,Q0):\n",
    "    rewards_all_eps = np.zeros(pulls)\n",
    "    count_optimal = 0\n",
    "    for ep in range(eps):\n",
    "        reward_all = []\n",
    "        reward_all_avg = np.zeros(pulls)\n",
    "        actions = []\n",
    "        bandit_ep0 = EpsGreedy(narms,epsilon,Q0)\n",
    "        cumulative_reward = 0\n",
    "        cumulative_reward_all = np.zeros(pulls)\n",
    "        for i in range(pulls):\n",
    "            action = bandit_ep0.play(i)\n",
    "            actions.append(action)\n",
    "            reward = bandit_ep0.get_reward(action)\n",
    "            cumulative_reward += reward\n",
    "            bandit_ep0.update(action,reward)\n",
    "            reward_all.append(reward)\n",
    "            prev_reward = reward_all_avg[i-1] if i > 0 else 0\n",
    "            reward_all_avg[i] = prev_reward + (reward - prev_reward)/(i+1)\n",
    "            cumulative_reward_all[i] = cumulative_reward/(i+1)\n",
    "            count_optimal += 1 if bandit_ep0.best_action == action else 0\n",
    "        rewards_all_eps += cumulative_reward_all\n",
    "    return (rewards_all_eps/eps, count_optimal)\n"
   ]
  },
  {
   "cell_type": "code",
   "execution_count": 363,
   "metadata": {
    "scrolled": false
   },
   "outputs": [],
   "source": [
    "ep0,ep0_optimal_count = experiment(eps,0,0)\n",
    "ep01,ep01_optimal_count = experiment(eps,0.1,0)\n",
    "ep001,ep001_optimal_count = experiment(eps,0.01,0)"
   ]
  },
  {
   "cell_type": "code",
   "execution_count": 299,
   "metadata": {
    "scrolled": true
   },
   "outputs": [
    {
     "data": {
      "text/plain": [
       "(array([0.487     , 0.507     , 0.52766667, 0.54225   , 0.5438    ,\n",
       "        0.55183333, 0.55814286, 0.562875  , 0.56866667, 0.573     ,\n",
       "        0.57627273, 0.578     , 0.58084615, 0.58171429, 0.58266667,\n",
       "        0.5858125 , 0.58758824, 0.59016667, 0.593     , 0.595     ,\n",
       "        0.59614286, 0.59813636, 0.60052174, 0.60270833, 0.60584   ,\n",
       "        0.60742308, 0.6082963 , 0.60985714, 0.61089655, 0.61236667,\n",
       "        0.61341935, 0.6141875 , 0.61627273, 0.61758824, 0.61931429,\n",
       "        0.62058333, 0.62156757, 0.62221053, 0.62364103, 0.624375  ,\n",
       "        0.62558537, 0.62680952, 0.62781395, 0.62879545, 0.62937778,\n",
       "        0.62995652, 0.63121277, 0.63239583, 0.63393878, 0.63504   ,\n",
       "        0.63611765, 0.63671154, 0.63792453, 0.63859259, 0.63945455,\n",
       "        0.64025   , 0.64078947, 0.64151724, 0.64250847, 0.64306667,\n",
       "        0.64357377, 0.64420968, 0.6445873 , 0.6450625 , 0.64567692,\n",
       "        0.64571212, 0.6460597 , 0.64644118, 0.64707246, 0.64791429,\n",
       "        0.64811268, 0.64851389, 0.64875342, 0.64925676, 0.65004   ,\n",
       "        0.65071053, 0.65120779, 0.65165385, 0.65197468, 0.6524875 ,\n",
       "        0.65282716, 0.65357317, 0.65410843, 0.65470238, 0.65537647,\n",
       "        0.65590698, 0.65643678, 0.65675   , 0.65694382, 0.65754444,\n",
       "        0.65794505, 0.65818478, 0.65877419, 0.65912766, 0.65936842,\n",
       "        0.65998958, 0.66047423, 0.66066327, 0.66115152, 0.66156   ,\n",
       "        0.66216832, 0.6624902 , 0.66274757, 0.66306731, 0.66347619,\n",
       "        0.66366038, 0.66403738, 0.66421296, 0.66449541, 0.66467273,\n",
       "        0.66479279, 0.66516071, 0.66555752, 0.66588596, 0.66643478,\n",
       "        0.66671552, 0.66709402, 0.66738983, 0.66755462, 0.667975  ,\n",
       "        0.6682314 , 0.66844262, 0.66879675, 0.66880645, 0.66904   ,\n",
       "        0.66936508, 0.66977953, 0.66991406, 0.67027132, 0.67033077,\n",
       "        0.67051908, 0.67069697, 0.67103759, 0.67114179, 0.67133333,\n",
       "        0.67133088, 0.67138686, 0.67157246, 0.67173381, 0.67202143,\n",
       "        0.67226241, 0.67241549, 0.67263636, 0.67266667, 0.67284138,\n",
       "        0.67305479, 0.67329252, 0.67337162, 0.67342953, 0.67356   ,\n",
       "        0.67371523, 0.67394737, 0.67398693, 0.67416234, 0.67423226,\n",
       "        0.67446154, 0.67473885, 0.67499367, 0.67521384, 0.6754125 ,\n",
       "        0.67575155, 0.67588272, 0.67618405, 0.67651829, 0.67675152,\n",
       "        0.67672892, 0.67680838, 0.67700595, 0.67706509, 0.67711765,\n",
       "        0.67734503, 0.67760465, 0.67766474, 0.67785057, 0.67798286,\n",
       "        0.67808523, 0.67824859, 0.6783427 , 0.67839665, 0.67844444,\n",
       "        0.67850276, 0.6785989 , 0.67877596, 0.67888587, 0.67899459,\n",
       "        0.67911828, 0.67920856, 0.67944149, 0.67968254, 0.6799    ,\n",
       "        0.67998429, 0.68005729, 0.68020725, 0.68038144, 0.68050769,\n",
       "        0.68072449, 0.68090355, 0.68108081, 0.68118593, 0.681345  ,\n",
       "        0.68147264, 0.68159406, 0.68168966, 0.68179412, 0.68187805,\n",
       "        0.68206311, 0.68223671, 0.68226923, 0.6824067 , 0.68251905,\n",
       "        0.68258294, 0.68267453, 0.68273239, 0.68283178, 0.68286512,\n",
       "        0.68289815, 0.68297235, 0.68311009, 0.68313242, 0.68326818,\n",
       "        0.68333937, 0.6834955 , 0.68350673, 0.6834375 , 0.68348889,\n",
       "        0.68358407, 0.6835859 , 0.68366228, 0.68363319, 0.68368261,\n",
       "        0.68377922, 0.68394828, 0.68400858, 0.68401709, 0.68409362,\n",
       "        0.68416949, 0.68430802, 0.68434454, 0.6843682 , 0.68446667,\n",
       "        0.68458091, 0.68460744, 0.68479012, 0.68490164, 0.68498776,\n",
       "        0.68504472, 0.68518219, 0.68518145, 0.68517269, 0.6852    ,\n",
       "        0.68524303, 0.68527778, 0.68532411, 0.68540157, 0.68554118,\n",
       "        0.68572266, 0.68585603, 0.68600775, 0.68603089, 0.68612692,\n",
       "        0.68623755, 0.68631298, 0.68646008, 0.68643939, 0.68643019,\n",
       "        0.68654135, 0.686603  , 0.68663806, 0.68679182, 0.68690741,\n",
       "        0.68695203, 0.68700368, 0.68702198, 0.68706934, 0.68708   ,\n",
       "        0.68713768, 0.6871769 , 0.68732374, 0.68736559, 0.68735714,\n",
       "        0.68733452, 0.68734752, 0.68749823, 0.68757394, 0.68753684,\n",
       "        0.68761888, 0.68768641, 0.68770833, 0.68776817, 0.68793793,\n",
       "        0.68798282, 0.68808904, 0.68816724, 0.68828571, 0.68836949,\n",
       "        0.68843919, 0.68853872, 0.6886443 , 0.68866221, 0.68873   ,\n",
       "        0.68886047, 0.68889735, 0.6889604 , 0.68896382, 0.68910164,\n",
       "        0.68929085, 0.68937459, 0.68941558, 0.68952427, 0.68954194,\n",
       "        0.68959164, 0.68958013, 0.68959105, 0.68964968, 0.68972381,\n",
       "        0.68983861, 0.68993691, 0.6899717 , 0.69003448, 0.6900875 ,\n",
       "        0.69009657, 0.69007453, 0.69012384, 0.69014506, 0.69018769,\n",
       "        0.69023313, 0.69027829, 0.6902622 , 0.69024924, 0.69026364,\n",
       "        0.69033233, 0.69036747, 0.69042943, 0.69048204, 0.69052836,\n",
       "        0.69054167, 0.69060237, 0.69052367, 0.69062832, 0.69069706,\n",
       "        0.6907566 , 0.69079532, 0.69089796, 0.6909564 , 0.69102609,\n",
       "        0.691     , 0.69102305, 0.69110057, 0.69115759, 0.69119143,\n",
       "        0.69124786, 0.69130398, 0.69140227, 0.6914322 , 0.69146479,\n",
       "        0.69148315, 0.69156022, 0.69158659, 0.69155153, 0.69158333,\n",
       "        0.69162604, 0.69158564, 0.69166667, 0.69163736, 0.69173425,\n",
       "        0.69183607, 0.69189373, 0.69191848, 0.69190515, 0.69191622,\n",
       "        0.69188679, 0.69196237, 0.6920134 , 0.69200802, 0.69208267,\n",
       "        0.69210106, 0.69213263, 0.69216931, 0.69227704, 0.69227632,\n",
       "        0.69230971, 0.69234293, 0.69239164, 0.69241406, 0.69253247,\n",
       "        0.69246114, 0.69249871, 0.69247423, 0.69251928, 0.69262051,\n",
       "        0.69262148, 0.69269643, 0.69269466, 0.69270051, 0.69273671,\n",
       "        0.69279545, 0.69279849, 0.69285176, 0.69281454, 0.69287   ,\n",
       "        0.69293516, 0.69293035, 0.69297022, 0.69304455, 0.69304691,\n",
       "        0.69308128, 0.69311794, 0.69315441, 0.69318337, 0.69321707,\n",
       "        0.69323358, 0.69329854, 0.6933414 , 0.69339855, 0.69338795,\n",
       "        0.69344712, 0.69341727, 0.69346411, 0.69347971, 0.6935119 ,\n",
       "        0.69355582, 0.69354739, 0.69362411, 0.69367217, 0.69375765,\n",
       "        0.69380516, 0.69382904, 0.69386682, 0.69392308, 0.69390465,\n",
       "        0.69390719, 0.69398611, 0.69405081, 0.69406682, 0.69408046,\n",
       "        0.69413991, 0.69415332, 0.69419406, 0.69418907, 0.69426364,\n",
       "        0.6943356 , 0.69442308, 0.69445147, 0.69448198, 0.69452135,\n",
       "        0.69456951, 0.69458613, 0.69459598, 0.69459465, 0.69455111,\n",
       "        0.69454767, 0.69461726, 0.69466667, 0.6946652 , 0.69468352,\n",
       "        0.69465351, 0.69470241, 0.69471397, 0.69475163, 0.69475435,\n",
       "        0.69472234, 0.6947684 , 0.6948013 , 0.69479526, 0.6948043 ,\n",
       "        0.69478326, 0.69482227, 0.69487607, 0.69485501, 0.69489362,\n",
       "        0.69487898, 0.69489831, 0.69493023, 0.69489451, 0.69492   ,\n",
       "        0.69497899, 0.69502935, 0.69504812, 0.69509603, 0.69508958,\n",
       "        0.69507277, 0.69514315, 0.69518841, 0.69516942, 0.69515258,\n",
       "        0.69517078, 0.69517659, 0.69522746, 0.69516973, 0.69520204,\n",
       "        0.69526477, 0.69531504, 0.69531034, 0.69530769, 0.69535556,\n",
       "        0.69534677, 0.6952998 , 0.69533534, 0.69537675, 0.695358  ,\n",
       "        0.69536527, 0.69538048, 0.69538966, 0.69535913, 0.69535248,\n",
       "        0.69537154, 0.69538659, 0.69544882, 0.69546169, 0.69547843,\n",
       "        0.69548532, 0.69549414, 0.69552827, 0.69553307, 0.69556699,\n",
       "        0.69558333, 0.69560348, 0.69560232, 0.69565896, 0.69568269,\n",
       "        0.69570633, 0.69572797, 0.69574379, 0.69570992, 0.69572762,\n",
       "        0.69575475, 0.69573624, 0.69576705, 0.69579017, 0.69579623,\n",
       "        0.69582109, 0.69584211, 0.69582927, 0.69584644, 0.69586542,\n",
       "        0.6959347 , 0.69595158, 0.6959461 , 0.69597403, 0.69599444,\n",
       "        0.69600739, 0.69600554, 0.69599263, 0.69599265, 0.69592477,\n",
       "        0.69595604, 0.69596344, 0.6959708 , 0.69597814, 0.69601091,\n",
       "        0.6960363 , 0.69607971, 0.69611573, 0.6961769 , 0.69618018,\n",
       "        0.69617266, 0.69619928, 0.6961828 , 0.69620751, 0.69624643,\n",
       "        0.69624421, 0.69627224, 0.6963286 , 0.69636348, 0.69638761,\n",
       "        0.69638339, 0.69644621, 0.6965    , 0.69653076, 0.69652982,\n",
       "        0.6965324 , 0.69647028, 0.69645899, 0.69645296, 0.69647304,\n",
       "        0.69648785, 0.69648873, 0.69650173, 0.69647496, 0.69652759,\n",
       "        0.69655938, 0.6965567 , 0.69654031, 0.69651884, 0.69654872,\n",
       "        0.69656485, 0.69659966, 0.69662925, 0.69665365, 0.69664746,\n",
       "        0.69662267, 0.69663345, 0.69664924, 0.69668519, 0.69672773,\n",
       "        0.69675839, 0.69674372, 0.69673746, 0.69678464, 0.69680167,\n",
       "        0.69681697, 0.69684219, 0.69688723, 0.69692715, 0.69693719,\n",
       "        0.69695545, 0.69698353, 0.69703454, 0.69703448, 0.69702623,\n",
       "        0.69703273, 0.69704575, 0.6970571 , 0.69706678, 0.69714146,\n",
       "        0.69716396, 0.69715397, 0.69718447, 0.69720517, 0.69716129,\n",
       "        0.69717713, 0.69718167, 0.69720546, 0.69720673, 0.6972448 ,\n",
       "        0.69723962, 0.69726794, 0.69728981, 0.69731161, 0.69733333,\n",
       "        0.69736926, 0.69740032, 0.6974455 , 0.69746057, 0.69745512,\n",
       "        0.69743396, 0.69748666, 0.69748903, 0.69751956, 0.697525  ,\n",
       "        0.69755538, 0.69756542, 0.69756143, 0.69763509, 0.69766047,\n",
       "        0.69767028, 0.69770479, 0.69766358, 0.69769337, 0.69771077,\n",
       "        0.69773886, 0.69774847, 0.69779479, 0.69777217, 0.69772366,\n",
       "        0.69773323, 0.69772603, 0.69776444, 0.69776176, 0.69778182,\n",
       "        0.69777912, 0.6978142 , 0.69786124, 0.69788102, 0.69787068,\n",
       "        0.6979009 , 0.69789955, 0.69789521, 0.69794619, 0.69794478,\n",
       "        0.69793592, 0.69792708, 0.69791382, 0.69795994, 0.69799852,\n",
       "        0.69801479, 0.69801182, 0.6980177 , 0.69802504, 0.69807059,\n",
       "        0.69807783, 0.69811437, 0.6981142 , 0.69810819, 0.69812555,\n",
       "        0.69812245, 0.69812227, 0.69813227, 0.69814224, 0.69812174,\n",
       "        0.69812735, 0.6981315 , 0.69812843, 0.69811816, 0.69811799,\n",
       "        0.69813362, 0.69814778, 0.69817622, 0.69817024, 0.69818286,\n",
       "        0.69819971, 0.69822222, 0.69825178, 0.69828409, 0.69830355,\n",
       "        0.69834419, 0.69832815, 0.69837853, 0.69838787, 0.69837042,\n",
       "        0.69838819, 0.6984059 , 0.69842777, 0.69842297, 0.69844196,\n",
       "        0.6984595 , 0.69844491, 0.69844011, 0.69845063, 0.69846389,\n",
       "        0.69845076, 0.69846122, 0.69848133, 0.69849724, 0.69848   ,\n",
       "        0.69851377, 0.69851444, 0.6985467 , 0.69857064, 0.69855479,\n",
       "        0.69853762, 0.69852459, 0.69852524, 0.6985327 , 0.69858776,\n",
       "        0.69857201, 0.69859973, 0.69857859, 0.69856157, 0.69857162,\n",
       "        0.69858704, 0.69859164, 0.69859892, 0.69859946, 0.69859866,\n",
       "        0.69860858, 0.69858233, 0.69859759, 0.69861015, 0.69860667,\n",
       "        0.69860719, 0.69860106, 0.69862417, 0.6986618 , 0.69866225,\n",
       "        0.69866667, 0.69868164, 0.69871504, 0.69871014, 0.69871053,\n",
       "        0.69870302, 0.69873885, 0.69875754, 0.69876832, 0.69876863,\n",
       "        0.69880809, 0.69884224, 0.69886198, 0.69889597, 0.6989013 ,\n",
       "        0.69892996, 0.69894819, 0.69897542, 0.69899742, 0.69900387,\n",
       "        0.69900258, 0.69904118, 0.69904627, 0.69905135, 0.69907692,\n",
       "        0.6990589 , 0.69906394, 0.69908046, 0.69908929, 0.69906624,\n",
       "        0.6991145 , 0.69911182, 0.69913959, 0.69914322, 0.69914557,\n",
       "        0.69914412, 0.69913763, 0.69914754, 0.69914358, 0.69915597,\n",
       "        0.69913693, 0.69916437, 0.69918922, 0.69919399, 0.69924125,\n",
       "        0.69922722, 0.69922818, 0.69924284, 0.69925373, 0.69926335,\n",
       "        0.69924069, 0.69927138, 0.69928094, 0.69931768, 0.69931111,\n",
       "        0.69936128, 0.6993633 , 0.69938499, 0.69938206, 0.69943926,\n",
       "        0.69946814, 0.69949572, 0.69950122, 0.69952625, 0.69950976,\n",
       "        0.69958709, 0.69956813, 0.69957959, 0.69959102, 0.69960848,\n",
       "        0.69965012, 0.69967715, 0.69968478, 0.69972014, 0.69975301,\n",
       "        0.69975572, 0.6998149 , 0.69981152, 0.69980456, 0.69983593,\n",
       "        0.69986483, 0.69987694, 0.69988067, 0.69987485, 0.699875  ,\n",
       "        0.69988942, 0.69987648, 0.69988968, 0.69986137, 0.69986864,\n",
       "        0.69986407, 0.69985006, 0.69987618, 0.69990577, 0.69994   ,\n",
       "        0.69991774, 0.69993897, 0.69994959, 0.6999719 , 0.69998596,\n",
       "        0.70000117, 0.70003501, 0.70005944, 0.70006054, 0.70004767,\n",
       "        0.7000662 , 0.70004408, 0.70006721, 0.70006134, 0.70007168,\n",
       "        0.70008891, 0.70010265, 0.70008871, 0.7000702 , 0.7001    ,\n",
       "        0.70012285, 0.70013417, 0.70013746, 0.70011327, 0.70010743,\n",
       "        0.7001153 , 0.70012429, 0.70016287, 0.70018203, 0.70018409,\n",
       "        0.70019296, 0.70019501, 0.70021178, 0.70017873, 0.70018644,\n",
       "        0.70019865, 0.70022999, 0.70022635, 0.70022835, 0.70025506,\n",
       "        0.70026263, 0.70026794, 0.700271  , 0.70028523, 0.70030279,\n",
       "        0.70032813, 0.70032553, 0.7003118 , 0.70035261, 0.70038333,\n",
       "        0.70040289, 0.7003969 , 0.70041307, 0.7004281 , 0.70046519,\n",
       "        0.70048675, 0.70051158, 0.70052753, 0.70054455, 0.70054396,\n",
       "        0.70058288, 0.70058333, 0.7005805 , 0.70056674, 0.70055301,\n",
       "        0.70054913, 0.70055071, 0.70057516, 0.70057345, 0.70060326,\n",
       "        0.70061672, 0.70062581, 0.7006013 , 0.70057468, 0.70056757,\n",
       "        0.70055724, 0.70054693, 0.70052802, 0.70055544, 0.70054516,\n",
       "        0.70055747, 0.70057833, 0.70057449, 0.70059315, 0.70058289,\n",
       "        0.70061645, 0.70061686, 0.70059808, 0.70059744, 0.70060957,\n",
       "        0.70061637, 0.7006051 , 0.7006193 , 0.70064407, 0.7006328 ,\n",
       "        0.70065751, 0.70064308, 0.70066878, 0.70068493, 0.70069895,\n",
       "        0.70071714, 0.70071744, 0.70071459, 0.70071069, 0.70070576,\n",
       "        0.70069979, 0.70069488, 0.7006952 , 0.70068405, 0.70070312,\n",
       "        0.70071904, 0.7007183 , 0.70069886, 0.70071473, 0.70071606,\n",
       "        0.70073602, 0.70072182, 0.70073657, 0.700742  , 0.70074124,\n",
       "        0.70074047, 0.70073971, 0.70074717, 0.70077105, 0.70077333,\n",
       "        0.70078176, 0.70077994, 0.70077914, 0.70077324, 0.70076837,\n",
       "        0.70077064, 0.70076578, 0.70077111, 0.7007622 , 0.70078071,\n",
       "        0.7007789 , 0.70078521, 0.70078138, 0.70076441, 0.70079798,\n",
       "        0.70077699, 0.70080948, 0.70082679, 0.70082797, 0.70081809,\n",
       "        0.70084036, 0.70084353, 0.7008487 , 0.70085686, 0.700854  ]), 457707)"
      ]
     },
     "execution_count": 299,
     "metadata": {},
     "output_type": "execute_result"
    }
   ],
   "source": [
    "ep0"
   ]
  },
  {
   "cell_type": "code",
   "execution_count": 354,
   "metadata": {},
   "outputs": [
    {
     "data": {
      "text/plain": [
       "(1684694, 3998552, 3581235)"
      ]
     },
     "execution_count": 354,
     "metadata": {},
     "output_type": "execute_result"
    }
   ],
   "source": [
    "ep0_optimal_count,ep01_optimal_count,ep001_optimal_count"
   ]
  },
  {
   "cell_type": "code",
   "execution_count": 227,
   "metadata": {},
   "outputs": [],
   "source": [
    "pyplot = plt.pyplot"
   ]
  },
  {
   "cell_type": "code",
   "execution_count": 367,
   "metadata": {
    "scrolled": false
   },
   "outputs": [
    {
     "data": {
      "image/png": "[encoded data removed]",
      "text/plain": [
       "<Figure size 432x288 with 1 Axes>"
      ]
     },
     "metadata": {},
     "output_type": "display_data"
    }
   ],
   "source": [
    "pyplot.plot(ep0,label=\"epsilon=0\")\n",
    "pyplot.plot(ep01,label=\"epsilon=0.1\")\n",
    "pyplot.plot(ep001,label=\"epsilon=0.01\")\n",
    "pyplot.ylim(0,2.5)\n",
    "pyplot.legend()\n",
    "pyplot.show()"
   ]
  },
  {
   "cell_type": "code",
   "execution_count": 364,
   "metadata": {},
   "outputs": [],
   "source": [
    "ep0Q5,ep0Q5_optimal_count = experiment(eps,0,5)\n",
    "ep01Q5,ep01Q5_optimal_count = experiment(eps,0.1,5)\n",
    "ep001Q5,ep001Q5_optimal_count = experiment(eps,0.01,5)"
   ]
  },
  {
   "cell_type": "code",
   "execution_count": 365,
   "metadata": {},
   "outputs": [
    {
     "data": {
      "text/plain": [
       "(7079348, 8430687, 8116947)"
      ]
     },
     "execution_count": 365,
     "metadata": {},
     "output_type": "execute_result"
    }
   ],
   "source": [
    "ep0Q5_optimal_count,ep01Q5_optimal_count,ep001Q5_optimal_count"
   ]
  },
  {
   "cell_type": "code",
   "execution_count": 366,
   "metadata": {},
   "outputs": [
    {
     "data": {
      "image/png": "[encoded data removed]",
      "text/plain": [
       "<Figure size 432x288 with 1 Axes>"
      ]
     },
     "metadata": {},
     "output_type": "display_data"
    }
   ],
   "source": [
    "pyplot.plot(ep0Q5,label=\"epsilon=0\")\n",
    "pyplot.plot(ep01Q5,label=\"epsilon=0.1\")\n",
    "pyplot.plot(ep001Q5,label=\"epsilon=0.01\")\n",
    "pyplot.ylim(0,2.5)\n",
    "pyplot.legend()\n",
    "pyplot.show()"
   ]
  },
  {
   "cell_type": "code",
   "execution_count": 329,
   "metadata": {},
   "outputs": [],
   "source": [
    "class Bandit:\n",
    "    def __init__(self):\n",
    "        self.arm_values = np.random.normal(0,1,10)\n",
    "        self.K = np.zeros(10)\n",
    "        self.est_values = np.zeros(10)\n",
    "        self.best_action = np.argmax(self.arm_values)\n",
    "        \n",
    "    def get_reward(self,action):\n",
    "        return np.random.normal(self.arm_values[action],1)\n",
    "        noise = np.random.normal(self.arm_values[action],1)\n",
    "        reward = self.arm_values[action] + noise\n",
    "        return reward\n",
    "    \n",
    "    def choose_eps_greedy(self,epsilon):\n",
    "        rand_num = np.random.random()\n",
    "        if epsilon>rand_num:\n",
    "            return np.random.randint(10)\n",
    "        else:\n",
    "            return np.argmax(self.est_values)\n",
    "    \n",
    "    def update_est(self,action,reward):\n",
    "        self.K[action] += 1\n",
    "        alpha = 1./self.K[action]\n",
    "        self.est_values[action] += alpha * (reward - self.est_values[action])  # keeps running average of rewards"
   ]
  },
  {
   "cell_type": "code",
   "execution_count": 333,
   "metadata": {},
   "outputs": [],
   "source": [
    "def experiment2(bandit,Npulls,epsilon):\n",
    "    history = []\n",
    "    for i in range(Npulls):\n",
    "        action = bandit.choose_eps_greedy(epsilon)\n",
    "        R = bandit.get_reward(action)\n",
    "        bandit.update_est(action,R)\n",
    "        history.append(R)\n",
    "    return np.array(history)"
   ]
  },
  {
   "cell_type": "code",
   "execution_count": 331,
   "metadata": {},
   "outputs": [],
   "source": [
    "Nexp = 500\n",
    "Npulls = 3000\n",
    "\n",
    "avg_outcome_eps0p0 = np.zeros(Npulls)\n",
    "avg_outcome_eps0p01 = np.zeros(Npulls)\n",
    "avg_outcome_eps0p1 = np.zeros(Npulls)\n",
    "\n",
    "for i in range(Nexp):\n",
    "    bandit = Bandit()\n",
    "    avg_outcome_eps0p0 += experiment2(bandit,Npulls,0.0)\n",
    "    bandit = Bandit()\n",
    "    avg_outcome_eps0p01 += experiment2(bandit,Npulls,0.01)\n",
    "    bandit = Bandit()\n",
    "    avg_outcome_eps0p1 += experiment2(bandit,Npulls,0.1)\n",
    "\n",
    "avg_outcome_eps0p0 /= np.float(Nexp)\n",
    "avg_outcome_eps0p01 /= np.float(Nexp)\n",
    "avg_outcome_eps0p1 /= np.float(Nexp)"
   ]
  },
  {
   "cell_type": "code",
   "execution_count": 332,
   "metadata": {},
   "outputs": [
    {
     "data": {
      "image/png": "[encoded data removed]",
      "text/plain": [
       "<Figure size 432x288 with 1 Axes>"
      ]
     },
     "metadata": {},
     "output_type": "display_data"
    }
   ],
   "source": [
    "pyplot.plot(avg_outcome_eps0p0,label=\"eps = 0.0\")\n",
    "pyplot.plot(avg_outcome_eps0p01,label=\"eps = 0.01\")\n",
    "pyplot.plot(avg_outcome_eps0p1,label=\"eps = 0.1\")\n",
    "pyplot.ylim(0,2.2)\n",
    "pyplot.legend()\n",
    "pyplot.show()"
   ]
  },
  {
   "cell_type": "code",
   "execution_count": null,
   "metadata": {
    "collapsed": true
   },
   "outputs": [],
   "source": [
    "class UCB(MAB):\n",
    "    \"\"\"\n",
    "    Upper Confidence Bound (UCB) multi-armed bandit\n",
    "\n",
    "    Arguments\n",
    "    =========\n",
    "    narms : int\n",
    "        number of arms\n",
    "\n",
    "    rho : float\n",
    "        positive real explore-exploit parameter\n",
    "\n",
    "    Q0 : float, optional\n",
    "        initial value for the arms\n",
    "    \"\"\"\n",
    "    \n",
    "    def __init__(self, narms, rho, Q0=np.inf):\n",
    "        \n",
    "    \n",
    "    def play(self, tround, context=None):\n",
    "        \n",
    "        \n",
    "    def update(self, arm, reward, context=None):\n",
    "        \n",
    "    "
   ]
  },
  {
   "cell_type": "markdown",
   "metadata": {},
   "source": [
    "## 2. Off-Policy Evaluation"
   ]
  },
  {
   "cell_type": "code",
   "execution_count": null,
   "metadata": {
    "collapsed": true
   },
   "outputs": [],
   "source": [
    "def offlineEvaluate(mab, arms, rewards, contexts, nrounds=np.inf):\n",
    "    \"\"\"\n",
    "    Offline evaluation of a multi-armed bandit\n",
    "    \n",
    "    Arguments\n",
    "    =========\n",
    "    mab : instance of MAB\n",
    "    \n",
    "    arms : 1D int array, shape (nevents,) \n",
    "        integer arm id for each event\n",
    "    \n",
    "    rewards : 1D float array, shape (nevents,)\n",
    "        reward received for each event\n",
    "    \n",
    "    contexts : 2D float array, shape (nevents, mab.narms*nfeatures)\n",
    "        contexts presented to the arms (stacked horizontally) \n",
    "        for each event.\n",
    "        \n",
    "    nrounds : int\n",
    "        number of matching events to evaluate `mab` on.\n",
    "    \n",
    "    Returns\n",
    "    =======\n",
    "    out : 1D float array\n",
    "        rewards for the matching events\n",
    "    \"\"\"\n",
    "    "
   ]
  },
  {
   "cell_type": "code",
   "execution_count": null,
   "metadata": {
    "collapsed": true
   },
   "outputs": [],
   "source": [
    "mab = EpsGreedy(10, 0.05)\n",
    "rewards = offlineEvaluate(mab, arms, rewards, contexts, 800)\n",
    "print('EpsGreedy average reward', np.mean(rewards))"
   ]
  },
  {
   "cell_type": "code",
   "execution_count": null,
   "metadata": {
    "collapsed": true
   },
   "outputs": [],
   "source": [
    "mab = UCB(10, 1)\n",
    "rewards = offlineEvaluate(mab, arms, rewards, contexts, 800)\n",
    "print('UCB average reward', np.mean(rewards))"
   ]
  },
  {
   "cell_type": "markdown",
   "metadata": {},
   "source": [
    "## 3. Contextual Bandits"
   ]
  },
  {
   "cell_type": "code",
   "execution_count": null,
   "metadata": {
    "collapsed": true
   },
   "outputs": [],
   "source": [
    "class LinUCB(MAB):\n",
    "    \"\"\"\n",
    "    Contextual multi-armed bandit (LinUCB)\n",
    "\n",
    "    Arguments\n",
    "    =========\n",
    "    narms : int\n",
    "        number of arms\n",
    "\n",
    "    ndims : int\n",
    "        number of dimensions for each arm's context\n",
    "\n",
    "    alpha : float\n",
    "        positive real explore-exploit parameter\n",
    "    \"\"\"\n",
    "    \n",
    "    def __init__(self, narms, ndims, alpha):\n",
    "        \n",
    "        \n",
    "    def play(self, tround, context):\n",
    "        \n",
    "    \n",
    "    def update(self, arm, reward, context):\n",
    "        \n",
    "    "
   ]
  },
  {
   "cell_type": "code",
   "execution_count": null,
   "metadata": {
    "collapsed": true
   },
   "outputs": [],
   "source": [
    "mab = LinUCB(10, 10, 1)\n",
    "rewards = offlineEvaluate(mab, arms, rewards, contexts, 800)\n",
    "print('LinUCB average reward', np.mean(rewards))"
   ]
  },
  {
   "cell_type": "markdown",
   "metadata": {},
   "source": [
    "## 4. Evaluation\n",
    "### 4.A."
   ]
  },
  {
   "cell_type": "code",
   "execution_count": null,
   "metadata": {
    "collapsed": true
   },
   "outputs": [],
   "source": []
  },
  {
   "cell_type": "markdown",
   "metadata": {},
   "source": [
    "### 4.B."
   ]
  },
  {
   "cell_type": "code",
   "execution_count": null,
   "metadata": {
    "collapsed": true
   },
   "outputs": [],
   "source": []
  },
  {
   "cell_type": "markdown",
   "metadata": {},
   "source": [
    "## 5. KernelUCB"
   ]
  },
  {
   "cell_type": "code",
   "execution_count": null,
   "metadata": {
    "collapsed": true
   },
   "outputs": [],
   "source": [
    "# Do not edit. Special import for this section.\n",
    "from sklearn.metrics.pairwise import rbf_kernel"
   ]
  },
  {
   "cell_type": "code",
   "execution_count": null,
   "metadata": {
    "collapsed": true
   },
   "outputs": [],
   "source": [
    "class KernelUCB(MAB):\n",
    "    \"\"\"\n",
    "    Kernelised contextual multi-armed bandit (Kernelised LinUCB)\n",
    "    \n",
    "    Arguments\n",
    "    =========\n",
    "    narms : int\n",
    "        number of arms\n",
    "\n",
    "    ndims : int\n",
    "        number of dimensions for each arm's context\n",
    "\n",
    "    gamma : float\n",
    "        positive real explore-exploit parameter\n",
    "    \n",
    "    eta : float\n",
    "        positive real explore-exploit parameter\n",
    "    \n",
    "    kern : callable\n",
    "        a kernel function from sklearn.metrics.pairwise\n",
    "    \"\"\"\n",
    "    def __init__(self, narms, ndims, gamma, eta, kern):\n",
    "        \n",
    "    \n",
    "    def play(self, tround, context):\n",
    "        \n",
    "    \n",
    "    def update(self, arm, reward, context):\n",
    "        \n",
    "    "
   ]
  }
 ],
 "metadata": {
  "kernelspec": {
   "display_name": "Python 3",
   "language": "python",
   "name": "python3"
  },
  "language_info": {
   "codemirror_mode": {
    "name": "ipython",
    "version": 3
   },
   "file_extension": ".py",
   "mimetype": "text/x-python",
   "name": "python",
   "nbconvert_exporter": "python",
   "pygments_lexer": "ipython3",
   "version": "3.6.5"
  }
 },
 "nbformat": 4,
 "nbformat_minor": 2
}
